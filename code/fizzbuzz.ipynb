{
  "cells": [
    {
      "cell_type": "markdown",
      "id": "20e56eb1",
      "metadata": {
        "id": "20e56eb1"
      },
      "source": [
        "# Fizzbuzz\n",
        "\n",
        "Fizzbuzz is an introductory software engineering exercise that demonstrates\n",
        "concepts of loops and conditional statements."
      ]
    },
    {
      "cell_type": "markdown",
      "id": "3f100d56",
      "metadata": {
        "id": "3f100d56"
      },
      "source": [
        "## Goal\n",
        "A successful fizzbuzz solution does the following:  \n",
        "1. Loop from 1 to 100\n",
        "2. If the iteration is divisible by 3, print \"fizz\"\n",
        "3. If the iteration is divisible by 5, print \"buzz\"\n",
        "4. If the iteration is divisible by 3 AND 5, print \"fizzbuzz\"\n",
        "5. In any other case, don't print anything and continue\n",
        "\n",
        "**ACTIVITY: Implement your fizzbuzz solution below!**"
      ]
    },
    {
      "cell_type": "code",
      "execution_count": 11,
      "id": "abd6251f",
      "metadata": {
        "colab": {
          "base_uri": "https://localhost:8080/"
        },
        "id": "abd6251f",
        "outputId": "244c79b2-8c83-40ca-9db2-c83da9a75df9"
      },
      "outputs": [
        {
          "output_type": "stream",
          "name": "stdout",
          "text": [
            "1\n",
            "2\n",
            "fizz\n",
            "4\n",
            "buzz\n",
            "fizz\n",
            "7\n",
            "8\n",
            "fizz\n",
            "buzz\n",
            "11\n",
            "fizz\n",
            "13\n",
            "14\n",
            "fizzbuzz\n",
            "16\n",
            "17\n",
            "fizz\n",
            "19\n",
            "buzz\n",
            "fizz\n",
            "22\n",
            "23\n",
            "fizz\n",
            "buzz\n",
            "26\n",
            "fizz\n",
            "28\n",
            "29\n",
            "fizzbuzz\n",
            "31\n",
            "32\n",
            "fizz\n",
            "34\n",
            "buzz\n",
            "fizz\n",
            "37\n",
            "38\n",
            "fizz\n",
            "buzz\n",
            "41\n",
            "fizz\n",
            "43\n",
            "44\n",
            "fizzbuzz\n",
            "46\n",
            "47\n",
            "fizz\n",
            "49\n",
            "buzz\n",
            "fizz\n",
            "52\n",
            "53\n",
            "fizz\n",
            "buzz\n",
            "56\n",
            "fizz\n",
            "58\n",
            "59\n",
            "fizzbuzz\n",
            "61\n",
            "62\n",
            "fizz\n",
            "64\n",
            "buzz\n",
            "fizz\n",
            "67\n",
            "68\n",
            "fizz\n",
            "buzz\n",
            "71\n",
            "fizz\n",
            "73\n",
            "74\n",
            "fizzbuzz\n",
            "76\n",
            "77\n",
            "fizz\n",
            "79\n",
            "buzz\n",
            "fizz\n",
            "82\n",
            "83\n",
            "fizz\n",
            "buzz\n",
            "86\n",
            "fizz\n",
            "88\n",
            "89\n",
            "fizzbuzz\n",
            "91\n",
            "92\n",
            "fizz\n",
            "94\n",
            "buzz\n",
            "fizz\n",
            "97\n",
            "98\n",
            "fizz\n",
            "buzz\n"
          ]
        }
      ],
      "source": [
        "# Implement your fizzbuzz solution here\n",
        "\n",
        "import random\n",
        "import numpy as np\n",
        "\n",
        "\n",
        "\n",
        "loop_list = list()\n",
        "number_of_trials = 100\n",
        "for loop_count in np.arange(1, 101):\n",
        "    str_loop_roll = ''\n",
        "    if (loop_count % 3 == 0) and (loop_count % 5 == 0):\n",
        "        str_loop_roll = 'fizzbuzz'\n",
        "    elif loop_count % 3 == 0:\n",
        "        str_loop_roll = 'fizz'\n",
        "    elif loop_count % 5 == 0:\n",
        "        str_loop_roll = 'buzz'\n",
        "    else:\n",
        "        str_loop_roll = str(loop_count)\n",
        "    print(str_loop_roll)"
      ]
    }
  ],
  "metadata": {
    "kernelspec": {
      "display_name": "ev228",
      "language": "python",
      "name": "python3"
    },
    "language_info": {
      "name": "python",
      "version": "3.12.8"
    },
    "colab": {
      "provenance": []
    }
  },
  "nbformat": 4,
  "nbformat_minor": 5
}